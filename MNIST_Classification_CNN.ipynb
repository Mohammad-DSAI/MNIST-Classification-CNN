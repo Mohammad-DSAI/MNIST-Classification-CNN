{
  "nbformat": 4,
  "nbformat_minor": 0,
  "metadata": {
    "colab": {
      "provenance": []
    },
    "kernelspec": {
      "name": "python3",
      "display_name": "Python 3"
    },
    "language_info": {
      "name": "python"
    }
  },
  "cells": [
    {
      "cell_type": "code",
      "execution_count": 2,
      "metadata": {
        "colab": {
          "base_uri": "https://localhost:8080/"
        },
        "id": "3BUWJnb-PY_t",
        "outputId": "1d80a66d-0966-499d-a636-f98783047cc9"
      },
      "outputs": [
        {
          "output_type": "stream",
          "name": "stdout",
          "text": [
            "Train: X=(60000, 28, 28), y=(60000,)\n",
            "Test: X=(10000, 28, 28), y=(10000,)\n"
          ]
        }
      ],
      "source": [
        "# example of loading and plotting the mnist dataset\n",
        "from tensorflow.keras.datasets.mnist import load_data\n",
        "import matplotlib.pyplot as plt\n",
        "# load dataset\n",
        "(trainX, trainy), (testX, testy) = load_data()\n",
        "# summarize loaded dataset\n",
        "print('Train: X=%s, y=%s' % (trainX.shape, trainy.shape))\n",
        "print('Test: X=%s, y=%s' % (testX.shape, testy.shape))"
      ]
    },
    {
      "cell_type": "code",
      "source": [
        "# plot first few images\n",
        "for i in range(25):\n",
        "\t# define subplot\n",
        "\tplt.subplot(5, 5, i+1)\n",
        "\t# plot raw pixel data\n",
        "\tplt.imshow(trainX[i], cmap=plt.get_cmap('gray'))\n",
        "# show the figure\n",
        "plt.show()"
      ],
      "metadata": {
        "id": "_QIYtouQTxLf"
      },
      "execution_count": null,
      "outputs": []
    },
    {
      "cell_type": "code",
      "source": [
        "# example of a cnn for image classification\n",
        "from numpy import asarray\n",
        "from numpy import unique\n",
        "from numpy import argmax\n",
        "from tensorflow.keras.datasets.mnist import load_data\n",
        "from tensorflow.keras import Sequential\n",
        "from tensorflow.keras.layers import Dense\n",
        "from tensorflow.keras.layers import Conv2D\n",
        "from tensorflow.keras.layers import MaxPool2D\n",
        "from tensorflow.keras.layers import Flatten\n",
        "from tensorflow.keras.layers import Dropout"
      ],
      "metadata": {
        "id": "CCqJpyRD3U7V"
      },
      "execution_count": 4,
      "outputs": []
    },
    {
      "cell_type": "code",
      "source": [
        "# load dataset\n",
        "(x_train, y_train), (x_test, y_test) = load_data()"
      ],
      "metadata": {
        "id": "KyNNdhLu33Au"
      },
      "execution_count": null,
      "outputs": []
    },
    {
      "cell_type": "code",
      "source": [
        "# reshape data to have a single channel\n",
        "x_train = x_train.reshape((x_train.shape[0], x_train.shape[1], x_train.shape[2], 1))\n",
        "x_test = x_test.reshape((x_test.shape[0], x_test.shape[1], x_test.shape[2], 1))\n",
        "# determine the shape of the input images\n",
        "in_shape = x_train.shape[1:]\n",
        "# determine the number of classes\n",
        "n_classes = len(unique(y_train))\n",
        "print(in_shape, n_classes)\n",
        "# normalize pixel values\n",
        "x_train = x_train.astype('float32') / 255.0\n",
        "x_test = x_test.astype('float32') / 255.0"
      ],
      "metadata": {
        "colab": {
          "base_uri": "https://localhost:8080/"
        },
        "id": "vkIrQOro4Y2x",
        "outputId": "567e634b-1dd0-4389-b726-d44684c1407d"
      },
      "execution_count": 10,
      "outputs": [
        {
          "output_type": "stream",
          "name": "stdout",
          "text": [
            "(28, 28, 1) 10\n"
          ]
        }
      ]
    },
    {
      "cell_type": "code",
      "source": [
        "# define model\n",
        "model = Sequential()\n",
        "model.add(Conv2D(32, (3,3), activation='relu', kernel_initializer='he_uniform', input_shape=in_shape))\n",
        "model.add(MaxPool2D((2, 2)))\n",
        "model.add(Flatten())\n",
        "model.add(Dense(100, activation='relu', kernel_initializer='he_uniform'))\n",
        "model.add(Dropout(0.5))\n",
        "model.add(Dense(n_classes, activation='softmax'))\n",
        "# define loss and optimizer\n",
        "model.compile(optimizer='adam', loss='sparse_categorical_crossentropy', metrics=['accuracy'])\n",
        "# fit the model\n",
        "model.fit(x_train, y_train, epochs=10, batch_size=128, verbose=0)\n",
        "# evaluate the model\n",
        "loss, acc = model.evaluate(x_test, y_test, verbose=0)\n",
        "print('Accuracy: %.3f' % acc)"
      ],
      "metadata": {
        "colab": {
          "base_uri": "https://localhost:8080/"
        },
        "id": "HGn1jIVydwWr",
        "outputId": "a1a6c405-ecd8-44e9-eb84-9db9340e4066"
      },
      "execution_count": 11,
      "outputs": [
        {
          "output_type": "stream",
          "name": "stdout",
          "text": [
            "Accuracy: 0.988\n"
          ]
        }
      ]
    },
    {
      "cell_type": "code",
      "source": [
        "# make a prediction\n",
        "image = x_train[0]\n",
        "yhat = model.predict(asarray([image]))\n",
        "print('Predicted: class=%d' % argmax(yhat))"
      ],
      "metadata": {
        "colab": {
          "base_uri": "https://localhost:8080/"
        },
        "id": "EIYf3W_s5miK",
        "outputId": "0a285230-aefd-469d-f401-ee1f81eb3fed"
      },
      "execution_count": 12,
      "outputs": [
        {
          "output_type": "stream",
          "name": "stdout",
          "text": [
            "1/1 [==============================] - 0s 155ms/step\n",
            "Predicted: class=5\n"
          ]
        }
      ]
    }
  ]
}